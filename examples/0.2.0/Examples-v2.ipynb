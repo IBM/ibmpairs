{
 "cells": [
  {
   "cell_type": "markdown",
   "id": "ffb0b267",
   "metadata": {},
   "source": [
    "# Imports"
   ]
  },
  {
   "cell_type": "code",
   "execution_count": null,
   "id": "8a82e30d",
   "metadata": {},
   "outputs": [],
   "source": [
    "# External\n",
    "# from IPython.display import display\n",
    "from IPython.core.interactiveshell import InteractiveShell\n",
    "InteractiveShell.ast_node_interactivity = \"all\"\n",
    "\n",
    "# ibmpairs\n",
    "import ibmpairs.authentication as authentication\n",
    "import ibmpairs.catalog as catalog\n",
    "import ibmpairs.client as client\n",
    "import ibmpairs.query as query\n",
    "import ibmpairs.dashboard as dashboard"
   ]
  },
  {
   "cell_type": "markdown",
   "id": "9204aeb7",
   "metadata": {},
   "source": [
    "# Authenticate & create Client"
   ]
  },
  {
   "cell_type": "code",
   "execution_count": null,
   "id": "61742b03",
   "metadata": {},
   "outputs": [],
   "source": [
    "#An auth/oauth2.txt file exists with content:\n",
    "#<server>:<user>:<api_key>\n",
    "\n",
    "# OAuth2\n",
    "EIS_USER   = '<username>'\n",
    "credentials  = authentication.OAuth2(username = EIS_USER)\n",
    "eis_client = client.Client(authentication = credentials)\n",
    "\n",
    "#A auth/basic.txt file exists with content:\n",
    "#<server>:<user>:<password>\n",
    "\n",
    "# or, Basic\n",
    "#credentials = authentication.Basic(username = EIS_USER)\n",
    "#eis_client = client.Client(authentication = credentials)"
   ]
  },
  {
   "cell_type": "markdown",
   "id": "8d96caeb",
   "metadata": {},
   "source": [
    "# Query"
   ]
  },
  {
   "cell_type": "markdown",
   "id": "0af3be4f",
   "metadata": {},
   "source": [
    "## Point"
   ]
  },
  {
   "cell_type": "markdown",
   "id": "3733266a",
   "metadata": {},
   "source": [
    "#### An example query to gather information about a spatial point."
   ]
  },
  {
   "cell_type": "code",
   "execution_count": null,
   "id": "ba9f165e",
   "metadata": {},
   "outputs": [],
   "source": [
    "point_dict = {\n",
    "  \"layers\": [\n",
    "    {\n",
    "      \"id\": \"16100\",\n",
    "      \"type\": \"raster\"\n",
    "    }\n",
    "  ],\n",
    "  \"spatial\": {\n",
    "    \"coordinates\": [\n",
    "      \"35.7\",\n",
    "      \"139.7\"\n",
    "    ],\n",
    "    \"type\": \"point\"\n",
    "  },\n",
    "  \"temporal\": {\n",
    "    \"intervals\": [\n",
    "      {\n",
    "        \"end\": \"2018-10-31T00:00:00Z\",\n",
    "        \"start\": \"2015-01-01T00:00:00Z\"\n",
    "      }\n",
    "    ]\n",
    "  }\n",
    "}"
   ]
  },
  {
   "cell_type": "code",
   "execution_count": null,
   "id": "0470ed3e",
   "metadata": {},
   "outputs": [],
   "source": [
    "point_query = query.submit(point_dict)"
   ]
  },
  {
   "cell_type": "code",
   "execution_count": null,
   "id": "e097ba6b",
   "metadata": {},
   "outputs": [],
   "source": [
    "point_df = point_query.point_data_as_dataframe()"
   ]
  },
  {
   "cell_type": "code",
   "execution_count": null,
   "id": "1bd2d823",
   "metadata": {},
   "outputs": [],
   "source": [
    "dfpivot = point_df.pivot(index=['timestamp','latitude','longitude'], columns='layer_id',values=['value'])"
   ]
  },
  {
   "cell_type": "code",
   "execution_count": null,
   "id": "f495676a",
   "metadata": {},
   "outputs": [],
   "source": [
    "dfpivot"
   ]
  },
  {
   "cell_type": "code",
   "execution_count": null,
   "id": "8f21d54b",
   "metadata": {},
   "outputs": [],
   "source": [
    "# Analyse the returned data."
   ]
  },
  {
   "cell_type": "markdown",
   "id": "c433b14c",
   "metadata": {},
   "source": [
    "## Vector"
   ]
  },
  {
   "cell_type": "markdown",
   "id": "098e3df3",
   "metadata": {},
   "source": [
    "#### An example vector query."
   ]
  },
  {
   "cell_type": "code",
   "execution_count": null,
   "id": "679c1b16",
   "metadata": {},
   "outputs": [],
   "source": [
    "vector_dict = {\n",
    "  \"layers\": [\n",
    "    {\n",
    "      \"id\": \"P265C4176\",\n",
    "      \"type\": \"vector\"\n",
    "    }\n",
    "  ],\n",
    "  \"outputType\": \"csv\",\n",
    "  \"publish\": False,\n",
    "  \"spatial\": {\n",
    "    \"aoi\": 24,\n",
    "    \"type\": \"poly\"\n",
    "  },\n",
    "  \"temporal\": {\n",
    "    \"intervals\": [\n",
    "      {\n",
    "        \"end\": \"2018-11-14T00:00:00Z\",\n",
    "        \"start\": \"2018-11-13T00:00:00Z\"\n",
    "      }\n",
    "    ]\n",
    "  }\n",
    "}"
   ]
  },
  {
   "cell_type": "code",
   "execution_count": null,
   "id": "0bd20aed",
   "metadata": {},
   "outputs": [],
   "source": [
    "vector_query = query.submit_check_status_and_download(vector_dict)"
   ]
  },
  {
   "cell_type": "code",
   "execution_count": null,
   "id": "b832bf07",
   "metadata": {},
   "outputs": [],
   "source": [
    "vector_files = vector_query.list_files()\n",
    "print(vector_files)"
   ]
  },
  {
   "cell_type": "code",
   "execution_count": null,
   "id": "675950a7",
   "metadata": {},
   "outputs": [],
   "source": [
    "# Analyse the returned data."
   ]
  },
  {
   "cell_type": "markdown",
   "id": "898a560a",
   "metadata": {},
   "source": [
    "## Raster"
   ]
  },
  {
   "cell_type": "markdown",
   "id": "1352dc67",
   "metadata": {},
   "source": [
    "#### An example raster query."
   ]
  },
  {
   "cell_type": "code",
   "execution_count": null,
   "id": "638c7347",
   "metadata": {},
   "outputs": [],
   "source": [
    "raster_dict = {\n",
    "  \"layers\": [\n",
    "    {\n",
    "      \"id\": \"51\",\n",
    "      \"type\": \"raster\"\n",
    "    }\n",
    "  ],\n",
    "  \"spatial\": {\n",
    "    \"coordinates\": [\n",
    "      \"35.6523\",\n",
    "      \"-87.62\",\n",
    "      \"51.6523\",\n",
    "      \"-71.62\"\n",
    "    ],\n",
    "    \"type\": \"square\"\n",
    "  },\n",
    "  \"temporal\": {\n",
    "    \"intervals\": [\n",
    "      {\n",
    "        \"snapshot\": \"2018-05-31T00:00:00Z\"\n",
    "      }\n",
    "    ]\n",
    "  }\n",
    "}"
   ]
  },
  {
   "cell_type": "code",
   "execution_count": null,
   "id": "fcc93acb",
   "metadata": {},
   "outputs": [],
   "source": [
    "raster_query = query.submit_check_status_and_download(raster_dict)"
   ]
  },
  {
   "cell_type": "code",
   "execution_count": null,
   "id": "2c487bec",
   "metadata": {},
   "outputs": [],
   "source": [
    "raster_files = raster_query.list_files()\n",
    "print(raster_files)"
   ]
  },
  {
   "cell_type": "code",
   "execution_count": null,
   "id": "b61cd06f",
   "metadata": {},
   "outputs": [],
   "source": [
    "# Analyse the returned data."
   ]
  },
  {
   "cell_type": "markdown",
   "id": "53113693",
   "metadata": {},
   "source": [
    "## Favorite"
   ]
  },
  {
   "cell_type": "markdown",
   "id": "3298fba0",
   "metadata": {},
   "source": [
    "#### Indicate to IBM Environmental Intelligence Suite: Geospatial that a query is a 'favorite'; this will prevent deletion by the cleaning process."
   ]
  },
  {
   "cell_type": "code",
   "execution_count": null,
   "id": "19ba2094",
   "metadata": {},
   "outputs": [],
   "source": [
    "raster_query.favorite()"
   ]
  },
  {
   "cell_type": "markdown",
   "id": "72d91cf4",
   "metadata": {},
   "source": [
    "## Unfavorite"
   ]
  },
  {
   "cell_type": "markdown",
   "id": "3a16d1ac",
   "metadata": {},
   "source": [
    "#### Indicate to IBM Environmental Intelligence Suite: Geospatial that a query is no longer a 'favorite'."
   ]
  },
  {
   "cell_type": "code",
   "execution_count": null,
   "id": "9e939d8e",
   "metadata": {},
   "outputs": [],
   "source": [
    "raster_query.unfavorite()"
   ]
  },
  {
   "cell_type": "markdown",
   "id": "a1a6435e",
   "metadata": {},
   "source": [
    "## Merge"
   ]
  },
  {
   "cell_type": "markdown",
   "id": "625cbb23",
   "metadata": {},
   "source": [
    "#### In order to display and update IBM Environmental Intelligence Suite: Dashboard it is necessary to merge newly run queries in the same extent to a base query ID registered with the Dashboard component- this method perfoms this action."
   ]
  },
  {
   "cell_type": "code",
   "execution_count": null,
   "id": "2258e5f8",
   "metadata": {},
   "outputs": [],
   "source": [
    "merge_dict = {\n",
    "  \"layers\": [\n",
    "    {\n",
    "      \"id\": \"49464\",\n",
    "      \"type\": \"raster\"\n",
    "    }\n",
    "  ],\n",
    "  \"name\": \"Area Query Test\",\n",
    "  \"spatial\": {\n",
    "    \"coordinates\": [\n",
    "      48.437249,\n",
    "      2.5735152,\n",
    "      48.488131,\n",
    "      2.6838934\n",
    "    ],\n",
    "    \"type\": \"square\"\n",
    "  },\n",
    "  \"temporal\": {\n",
    "    \"intervals\": [\n",
    "      {\n",
    "        \"end\": \"2016-11-08\",\n",
    "        \"start\": \"2016-11-06\"\n",
    "      }\n",
    "    ]\n",
    "  }\n",
    "}\n",
    "\n",
    "merge_query = query.query_from_dict(merge_dict)\n",
    "merge_query.submit_and_check_status()"
   ]
  },
  {
   "cell_type": "code",
   "execution_count": null,
   "id": "9da6d261",
   "metadata": {},
   "outputs": [],
   "source": [
    "other_merge_query = query.query_from_dict(merge_dict)\n",
    "other_merge_query.temporal.intervals[0].start = \"2018-02-04\"\n",
    "other_merge_query.temporal.intervals[0].end   = \"2018-02-06\"\n",
    "other_merge_query.submit_and_check_status()"
   ]
  },
  {
   "cell_type": "code",
   "execution_count": null,
   "id": "912b3331",
   "metadata": {},
   "outputs": [],
   "source": [
    "merge_query.merge_query_into_base(other_job_id = other_merge_query)"
   ]
  },
  {
   "cell_type": "code",
   "execution_count": null,
   "id": "0c6e7ce8",
   "metadata": {},
   "outputs": [],
   "source": [
    "print(merge_query.merge_response)"
   ]
  },
  {
   "cell_type": "markdown",
   "id": "8520db74",
   "metadata": {},
   "source": [
    "## Replace Dates"
   ]
  },
  {
   "cell_type": "markdown",
   "id": "1291a976",
   "metadata": {},
   "source": [
    "#### The replace dates method replaces the all of the dates within a query object and sets a new nickname (optional), this is useful if a query object exists and the desire is to re-run with different date ranges."
   ]
  },
  {
   "cell_type": "code",
   "execution_count": null,
   "id": "22a292b7",
   "metadata": {},
   "outputs": [],
   "source": [
    "from datetime import datetime\n",
    "start = datetime(2018,2,4,0,0,0)\n",
    "end   = datetime(2018,2,6,0,0,0)\n",
    "\n",
    "print(merge_query)\n",
    "\n",
    "merge_query_with_new_dates = merge_query.replace_dates(start_date = start,\n",
    "                                                       end_date   = end)\n",
    "\n",
    "print(\"\")\n",
    "print(merge_query)"
   ]
  },
  {
   "cell_type": "markdown",
   "id": "359a9607",
   "metadata": {},
   "source": [
    "## Query by ID"
   ]
  },
  {
   "cell_type": "markdown",
   "id": "f4208e36",
   "metadata": {},
   "source": [
    "#### Get previously run query by its ID number"
   ]
  },
  {
   "cell_type": "code",
   "execution_count": null,
   "id": "1559dfe5",
   "metadata": {},
   "outputs": [],
   "source": [
    "q_id = query.get_query_by_id(vector_query.id)\n",
    "print(q_id)"
   ]
  },
  {
   "cell_type": "markdown",
   "id": "48d5a563",
   "metadata": {},
   "source": [
    "## Latest Queries"
   ]
  },
  {
   "cell_type": "markdown",
   "id": "7daffc44",
   "metadata": {},
   "source": [
    "#### Gather a list of recent queries made to IBM Environmental Intelligence Suite: Geospatial (default: 10), this method can be useful to retrive a query run on the UI."
   ]
  },
  {
   "cell_type": "code",
   "execution_count": null,
   "id": "3703b741",
   "metadata": {},
   "outputs": [],
   "source": [
    "lq = query.get_latest_queries()\n",
    "print(lq)"
   ]
  },
  {
   "cell_type": "markdown",
   "id": "6269604a",
   "metadata": {},
   "source": [
    "## Latest Favorites"
   ]
  },
  {
   "cell_type": "markdown",
   "id": "5715bac5",
   "metadata": {},
   "source": [
    "#### Gather a list of recent queries, flagged as favorite, made to IBM Environmental Intelligence Suite: Geospatial (default: 10)."
   ]
  },
  {
   "cell_type": "code",
   "execution_count": null,
   "id": "518f2d4f",
   "metadata": {},
   "outputs": [],
   "source": [
    "lf = query.get_latest_favorites()\n",
    "print(lf)"
   ]
  },
  {
   "cell_type": "markdown",
   "id": "11639f35",
   "metadata": {},
   "source": [
    "## Batch Query (Async)"
   ]
  },
  {
   "cell_type": "markdown",
   "id": "07fb9514",
   "metadata": {},
   "source": [
    "#### Execute a number of queries asynchronously according to a number of async workers."
   ]
  },
  {
   "cell_type": "code",
   "execution_count": null,
   "id": "9655fe12",
   "metadata": {},
   "outputs": [],
   "source": [
    "raster_query_batch = query.query_from_dict(raster_dict)\n",
    "vector_query_batch = query.query_from_dict(vector_dict)\n",
    "queries = [raster_query_batch, vector_query_batch]\n",
    "\n",
    "result = query.batch_query(queries = queries,\n",
    "                           workers = 2,\n",
    "                           verify = False)\n",
    "\n",
    "print(result)"
   ]
  },
  {
   "cell_type": "markdown",
   "id": "4f69e26b",
   "metadata": {},
   "source": [
    "# Catalog"
   ]
  },
  {
   "cell_type": "markdown",
   "id": "e18c4672",
   "metadata": {},
   "source": [
    "## Search"
   ]
  },
  {
   "cell_type": "markdown",
   "id": "613e068d",
   "metadata": {},
   "source": [
    "#### Search IBM Environmental Intelligence Suite: Geospatial catalog (Datasets, Datalayers) for an id or term."
   ]
  },
  {
   "cell_type": "code",
   "execution_count": null,
   "id": "660b63c4",
   "metadata": {},
   "outputs": [],
   "source": [
    "search_by_id = catalog.search(\"49464\")\n",
    "search_by_id"
   ]
  },
  {
   "cell_type": "code",
   "execution_count": null,
   "id": "436efd81",
   "metadata": {},
   "outputs": [],
   "source": [
    "search_by_word = catalog.search(\"Sentinel\")\n",
    "search_by_word"
   ]
  },
  {
   "cell_type": "markdown",
   "id": "a9c917d4",
   "metadata": {},
   "source": [
    "## Get a list of Datasets"
   ]
  },
  {
   "cell_type": "markdown",
   "id": "47827a84",
   "metadata": {},
   "source": [
    "#### Gather all Datasets a user has access to."
   ]
  },
  {
   "cell_type": "code",
   "execution_count": null,
   "id": "67622bf2",
   "metadata": {},
   "outputs": [],
   "source": [
    "ds_list = catalog.get_data_sets()\n",
    "ds_list.display()"
   ]
  },
  {
   "cell_type": "markdown",
   "id": "fe0ed463",
   "metadata": {},
   "source": [
    "## Get a Dataset"
   ]
  },
  {
   "cell_type": "markdown",
   "id": "43d1b4d2",
   "metadata": {},
   "source": [
    "#### Get a Dataset by an ID number "
   ]
  },
  {
   "cell_type": "code",
   "execution_count": null,
   "id": "2f0aa39a",
   "metadata": {},
   "outputs": [],
   "source": [
    "ds = catalog.get_data_set(id = \"177\")\n",
    "ds.display()"
   ]
  },
  {
   "cell_type": "markdown",
   "id": "4405db32",
   "metadata": {},
   "source": [
    "## Get a list of Datalayers"
   ]
  },
  {
   "cell_type": "markdown",
   "id": "bbf657cb",
   "metadata": {},
   "source": [
    "#### Gather all Datalayers a user has access to."
   ]
  },
  {
   "cell_type": "code",
   "execution_count": null,
   "id": "4c2fb4b9",
   "metadata": {},
   "outputs": [],
   "source": [
    "dl_list = catalog.get_data_layers()\n",
    "dl_list.display()"
   ]
  },
  {
   "cell_type": "markdown",
   "id": "91186053",
   "metadata": {},
   "source": [
    "## Get a list of Datalayers per Dataset"
   ]
  },
  {
   "cell_type": "markdown",
   "id": "93288ead",
   "metadata": {},
   "source": [
    "#### Gather all Datalayers in a given Dataset by ID number."
   ]
  },
  {
   "cell_type": "code",
   "execution_count": null,
   "id": "a0d78289",
   "metadata": {},
   "outputs": [],
   "source": [
    "dl_list_by_set = catalog.get_data_layers(data_set_id = \"177\")\n",
    "dl_list_by_set.display()"
   ]
  },
  {
   "cell_type": "markdown",
   "id": "af98dfd1",
   "metadata": {},
   "source": [
    "## Get a Datalayer"
   ]
  },
  {
   "cell_type": "markdown",
   "id": "04774c41",
   "metadata": {},
   "source": [
    "#### Get a Datalayer by an ID number "
   ]
  },
  {
   "cell_type": "code",
   "execution_count": null,
   "id": "44ed186d",
   "metadata": {},
   "outputs": [],
   "source": [
    "dl = catalog.get_data_layer(id = \"49464\")\n",
    "dl.display()"
   ]
  },
  {
   "cell_type": "markdown",
   "id": "78394215",
   "metadata": {},
   "source": [
    "## Get a list of Datalayer Dimensions per Datalayer"
   ]
  },
  {
   "cell_type": "markdown",
   "id": "f7dc4ba0",
   "metadata": {},
   "source": [
    "#### Gather all Datalayer Dimensions in a given Datalayer by ID number."
   ]
  },
  {
   "cell_type": "code",
   "execution_count": null,
   "id": "cb612d9f",
   "metadata": {},
   "outputs": [],
   "source": [
    "dlds = catalog.get_data_layer_dimensions(data_layer_id = \"49166\")\n",
    "dlds.display()"
   ]
  },
  {
   "cell_type": "markdown",
   "id": "da491707",
   "metadata": {},
   "source": [
    "## Get a Datalayer Dimension"
   ]
  },
  {
   "cell_type": "markdown",
   "id": "12fc103f",
   "metadata": {},
   "source": [
    "#### Get a Datalayer Dimension by an ID number "
   ]
  },
  {
   "cell_type": "code",
   "execution_count": null,
   "id": "c6d0c879",
   "metadata": {},
   "outputs": [],
   "source": [
    "dld = catalog.get_data_layer_dimension(id = \"243\")\n",
    "dld.display()"
   ]
  },
  {
   "cell_type": "markdown",
   "id": "580c643f",
   "metadata": {},
   "source": [
    "# Dashboard"
   ]
  },
  {
   "cell_type": "markdown",
   "id": "79172b24",
   "metadata": {},
   "source": [
    "## Register Query with IBM Environmental Intelligence Suite: Dashboard"
   ]
  },
  {
   "cell_type": "markdown",
   "id": "eb350896",
   "metadata": {},
   "source": [
    "#### In order to display (and subsequently update) an IBM Environmental Intelligence Suite: Dashboard layer it is first necessary to register the query."
   ]
  },
  {
   "cell_type": "code",
   "execution_count": null,
   "id": "8457410d",
   "metadata": {},
   "outputs": [],
   "source": [
    "area_query_dashboard_dict = {\n",
    "  \"debug\": True,\n",
    "  \"layers\": [\n",
    "    {\n",
    "      \"id\": \"49464\",\n",
    "      \"type\": \"raster\"\n",
    "    }\n",
    "  ],\n",
    "  \"name\": \"Area Query Test\",\n",
    "  \"spatial\": {\n",
    "    \"coordinates\": [\n",
    "      48.437249,\n",
    "      2.5735152,\n",
    "      48.488131,\n",
    "      2.6838934\n",
    "    ],\n",
    "    \"type\": \"square\"\n",
    "  },\n",
    "  \"temporal\": {\n",
    "    \"intervals\": [\n",
    "      {\n",
    "        \"end\": \"2016-11-08\",\n",
    "        \"start\": \"2016-11-06\"\n",
    "      }\n",
    "    ]\n",
    "  }\n",
    "}"
   ]
  },
  {
   "cell_type": "code",
   "execution_count": null,
   "id": "3ed41697",
   "metadata": {},
   "outputs": [],
   "source": [
    "query_registration_result, query = dashboard.register_query(query      = area_query_dashboard_dict, \n",
    "                                                            query_name = 'examples_v2_query')\n",
    "print('Query registration result = ' + str(query_registration_result))\n",
    "print('Query result = ' + str(query.submit_response))\n",
    "print('Query id = ' + str(query.id))"
   ]
  },
  {
   "cell_type": "markdown",
   "id": "690d2646",
   "metadata": {},
   "source": [
    "## Add Registered Query to IBM Environmental Intelligence Suite: Dashboard"
   ]
  },
  {
   "cell_type": "markdown",
   "id": "5fb63b7e",
   "metadata": {},
   "source": [
    "#### In order to view the output of a registered query on the IBM Environmental Intelligence Suite: Dashboard component the add_dashboard_layer method can be used."
   ]
  },
  {
   "cell_type": "code",
   "execution_count": null,
   "id": "111edf42",
   "metadata": {},
   "outputs": [],
   "source": [
    "query_registration_json = {\"analyticsUuid\": query_registration_result.analytics_uuid}\n",
    "query_registration = dashboard.QueryRegistrationReturn.from_dict(query_registration_json)\n",
    "dashboard.add_dashboard_layer(query_registration = query_registration, \n",
    "                              name               = \"example_v2_layer\")"
   ]
  }
 ],
 "metadata": {
  "kernelspec": {
   "display_name": "Python 3 (ipykernel)",
   "language": "python",
   "name": "python3"
  },
  "language_info": {
   "codemirror_mode": {
    "name": "ipython",
    "version": 3
   },
   "file_extension": ".py",
   "mimetype": "text/x-python",
   "name": "python",
   "nbconvert_exporter": "python",
   "pygments_lexer": "ipython3",
   "version": "3.8.10"
  }
 },
 "nbformat": 4,
 "nbformat_minor": 5
}
