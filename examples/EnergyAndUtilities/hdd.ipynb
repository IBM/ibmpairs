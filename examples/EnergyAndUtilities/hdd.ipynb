{
 "cells": [
  {
   "cell_type": "markdown",
   "metadata": {},
   "source": [
    "# Heating degree days\n",
    "\n",
    "*Heating degree days* (HDD) provide a simple measure of energy use. The assumption is that people start heating their homes once temperatures drop below a certain threshold. By counting the number of such days one can anticipate energy use.\n",
    "\n",
    "This notebook calculates heating degree days from the GFS forecast for a number of different threshold values. Note that we use layer `49173` which contains daily aggregates of the GFS forecast. Consult the data explorer (https://ibmpairs.mybluemix.net/data-explorer) for more details on this dataset."
   ]
  },
  {
   "cell_type": "code",
   "execution_count": 2,
   "metadata": {},
   "outputs": [],
   "source": [
    "from datetime import datetime, timedelta\n",
    "import re, os, pandas as pd, numpy as np, logging\n",
    "from matplotlib import pyplot as plt\n",
    "from scipy import ndimage\n",
    "from ibmpairs import paw, authentication"
   ]
  },
  {
   "cell_type": "markdown",
   "metadata": {},
   "source": [
    "We set some auxiliary variables and configure the logging system. E.g. `iso8601` helps when converting datetime objects to strings in ISO 8601-compliant format."
   ]
  },
  {
   "cell_type": "code",
   "execution_count": 3,
   "metadata": {},
   "outputs": [],
   "source": [
    "oneSec = timedelta(seconds=1)\n",
    "iso8601 = '%Y-%m-%dT%H:%M:%SZ'\n",
    "\n",
    "logging.basicConfig(level=logging.WARNING)\n",
    "pawLogger = logging.getLogger('ibmpairs.paw')\n",
    "pawLogger.setLevel(logging.ERROR)"
   ]
  },
  {
   "cell_type": "markdown",
   "metadata": {},
   "source": [
    "We use our API key to authenticate. To do so, we generate an authentication object `pairs_credentials`. When using the `paw` library, this can be used directly when instantiating a query via `paw.PAIRSQuery`. However, when submitting an API request directly (via e.g. python's `requests` module), we need to use a suitable HTTP header. We construct this directly as well. See `pairs_auth_headers`.\n",
    "\n",
    "**Please replace `<YOUR-PAIRS-API-KEY>` with your PAIRS API key.**"
   ]
  },
  {
   "cell_type": "code",
   "execution_count": 4,
   "metadata": {},
   "outputs": [],
   "source": [
    "pairs_api_key = '<YOUR-PAIRS-API-KEY>'"
   ]
  },
  {
   "cell_type": "markdown",
   "metadata": {},
   "source": [
    "Specifically, we use `authentication.OAuth2` to retrieve the access token:"
   ]
  },
  {
   "cell_type": "code",
   "execution_count": 5,
   "metadata": {},
   "outputs": [],
   "source": [
    "pairs_credentials = authentication.OAuth2(api_key=pairs_api_key)\n",
    "pairs_auth_headers={\n",
    "    'authorization' : f'Bearer {pairs_credentials.jwt_token}',\n",
    "    'content-type' : 'application/json'\n",
    "}"
   ]
  },
  {
   "cell_type": "markdown",
   "metadata": {},
   "source": [
    "The token will expire after an hour. This notebook will run in less time, so this is no issue. For longer running jobs use `pairs_credentials.refresh_auth_token()` to refresh. See https://pairs.res.ibm.com/tutorial/tutorials/api/paw.html#refreshing-a-token for details.\n"
   ]
  },
  {
   "cell_type": "markdown",
   "metadata": {},
   "source": [
    "## Step 1: Run a point query\n",
    "\n",
    "When working with PAIRS, it is generally good practice to start with a point query. Point queries are fast and create immediate responses, allowing users to ensure that they understand the data they are accessing. In this case we are interested in layer `49173`, which contains daily aggregates of the GFS temperature forecast. The layer has two dimensions, *issuetime* and *horizon*. *horizon* gives the forecast horizon in days, i.e. the time difference between the day the forecast was made and the one it is for, with the convention (for *this dataset only*) that the first day in the forecast has a horizon of 1 instead of 0. The GFS is issued several times a day, we use the 0:00 UTC forecast.\n",
    "\n",
    "(Note that the convention for this dataset are somewhat different from the way most weather forecasts are stored in PAIRS.)\n",
    "\n",
    "As mentioned before, consult the data explorer (https://ibmpairs.mybluemix.net/data-explorer) for details."
   ]
  },
  {
   "cell_type": "code",
   "execution_count": 6,
   "metadata": {},
   "outputs": [],
   "source": [
    "pointQueryJson = {\n",
    "    'layers' : [\n",
    "        {\n",
    "            'type' : 'raster', 'id' : '49173',\n",
    "            'dimensions' : [{'name' : 'issuetime', 'value' : '0'}, {'name' : 'horizon', 'value' : '16'}]\n",
    "        }\n",
    "    ],\n",
    "    'spatial' : {'type' : 'point', 'coordinates' : ['40', '-100']},\n",
    "    'temporal' : {'intervals' : [{\n",
    "        'start' : datetime(2019, 10, 1).strftime(iso8601),\n",
    "        'end' : datetime(2019, 12, 1).strftime(iso8601)\n",
    "    }]}\n",
    "}"
   ]
  },
  {
   "cell_type": "code",
   "execution_count": 7,
   "metadata": {},
   "outputs": [
    {
     "data": {
      "text/html": [
       "<div>\n",
       "<style scoped>\n",
       "    .dataframe tbody tr th:only-of-type {\n",
       "        vertical-align: middle;\n",
       "    }\n",
       "\n",
       "    .dataframe tbody tr th {\n",
       "        vertical-align: top;\n",
       "    }\n",
       "\n",
       "    .dataframe thead th {\n",
       "        text-align: right;\n",
       "    }\n",
       "</style>\n",
       "<table border=\"1\" class=\"dataframe\">\n",
       "  <thead>\n",
       "    <tr style=\"text-align: right;\">\n",
       "      <th></th>\n",
       "      <th>layerId</th>\n",
       "      <th>timestamp</th>\n",
       "      <th>longitude</th>\n",
       "      <th>latitude</th>\n",
       "      <th>value</th>\n",
       "      <th>region</th>\n",
       "      <th>property</th>\n",
       "      <th>geometry</th>\n",
       "    </tr>\n",
       "  </thead>\n",
       "  <tbody>\n",
       "    <tr>\n",
       "      <th>0</th>\n",
       "      <td>49173</td>\n",
       "      <td>2019-10-02 00:00:00+00:00</td>\n",
       "      <td>-100.0</td>\n",
       "      <td>40.0</td>\n",
       "      <td>26.284510</td>\n",
       "      <td>NaN</td>\n",
       "      <td>issuetime:0;horizon:16</td>\n",
       "      <td>POINT (-100.00000 40.00000)</td>\n",
       "    </tr>\n",
       "    <tr>\n",
       "      <th>1</th>\n",
       "      <td>49173</td>\n",
       "      <td>2019-10-03 00:00:00+00:00</td>\n",
       "      <td>-100.0</td>\n",
       "      <td>40.0</td>\n",
       "      <td>26.139605</td>\n",
       "      <td>NaN</td>\n",
       "      <td>issuetime:0;horizon:16</td>\n",
       "      <td>POINT (-100.00000 40.00000)</td>\n",
       "    </tr>\n",
       "    <tr>\n",
       "      <th>2</th>\n",
       "      <td>49173</td>\n",
       "      <td>2019-10-04 00:00:00+00:00</td>\n",
       "      <td>-100.0</td>\n",
       "      <td>40.0</td>\n",
       "      <td>25.398684</td>\n",
       "      <td>NaN</td>\n",
       "      <td>issuetime:0;horizon:16</td>\n",
       "      <td>POINT (-100.00000 40.00000)</td>\n",
       "    </tr>\n",
       "    <tr>\n",
       "      <th>3</th>\n",
       "      <td>49173</td>\n",
       "      <td>2019-10-05 00:00:00+00:00</td>\n",
       "      <td>-100.0</td>\n",
       "      <td>40.0</td>\n",
       "      <td>13.588403</td>\n",
       "      <td>NaN</td>\n",
       "      <td>issuetime:0;horizon:16</td>\n",
       "      <td>POINT (-100.00000 40.00000)</td>\n",
       "    </tr>\n",
       "    <tr>\n",
       "      <th>4</th>\n",
       "      <td>49173</td>\n",
       "      <td>2019-10-06 00:00:00+00:00</td>\n",
       "      <td>-100.0</td>\n",
       "      <td>40.0</td>\n",
       "      <td>32.768459</td>\n",
       "      <td>NaN</td>\n",
       "      <td>issuetime:0;horizon:16</td>\n",
       "      <td>POINT (-100.00000 40.00000)</td>\n",
       "    </tr>\n",
       "  </tbody>\n",
       "</table>\n",
       "</div>"
      ],
      "text/plain": [
       "   layerId                 timestamp  longitude  latitude      value  region  \\\n",
       "0    49173 2019-10-02 00:00:00+00:00     -100.0      40.0  26.284510     NaN   \n",
       "1    49173 2019-10-03 00:00:00+00:00     -100.0      40.0  26.139605     NaN   \n",
       "2    49173 2019-10-04 00:00:00+00:00     -100.0      40.0  25.398684     NaN   \n",
       "3    49173 2019-10-05 00:00:00+00:00     -100.0      40.0  13.588403     NaN   \n",
       "4    49173 2019-10-06 00:00:00+00:00     -100.0      40.0  32.768459     NaN   \n",
       "\n",
       "                 property                     geometry  \n",
       "0  issuetime:0;horizon:16  POINT (-100.00000 40.00000)  \n",
       "1  issuetime:0;horizon:16  POINT (-100.00000 40.00000)  \n",
       "2  issuetime:0;horizon:16  POINT (-100.00000 40.00000)  \n",
       "3  issuetime:0;horizon:16  POINT (-100.00000 40.00000)  \n",
       "4  issuetime:0;horizon:16  POINT (-100.00000 40.00000)  "
      ]
     },
     "execution_count": 7,
     "metadata": {},
     "output_type": "execute_result"
    }
   ],
   "source": [
    "pointQuery = paw.PAIRSQuery(pointQueryJson, auth=pairs_credentials, authType='api-key')\n",
    "pointQuery.submit()\n",
    "pointQuery.vdf.head()"
   ]
  },
  {
   "cell_type": "markdown",
   "metadata": {},
   "source": [
    "## Step 2: Calculating HDDs on the fly\n",
    "\n",
    "In what follows we calculate heating degree days for the next two weeks using a user defined function (UDF). Here we will implement a simple logic that allows us to find the adjust the threshold value used dynamically. See the tutorials and documentation at https://pairs.res.ibm.com/tutorial for further details on these.\n",
    "\n",
    "Since we want to calculate the HDDs for the next two weeks, we need yesterday's date."
   ]
  },
  {
   "cell_type": "code",
   "execution_count": 8,
   "metadata": {},
   "outputs": [],
   "source": [
    "utcToday = datetime.utcnow().replace(hour=0, minute=0, second=0, microsecond=0) - timedelta(days=1)"
   ]
  },
  {
   "cell_type": "markdown",
   "metadata": {},
   "source": [
    "The following functino generates a suitable query JSON to be submitted to PAIRS. Note that it is generally advisable to write functions that write UDF strings instead of writing them by hand."
   ]
  },
  {
   "cell_type": "code",
   "execution_count": 9,
   "metadata": {},
   "outputs": [],
   "source": [
    "def getQueryJson(today, thresholds = [18]):\n",
    "    queryJson = {\n",
    "        'layers' : [\n",
    "            {\n",
    "                'alias' : 'L{0}DA{1}'.format(lID, str(daysAhead).zfill(2)),\n",
    "                'aggregation' : 'Mean',\n",
    "                'type' : 'raster', 'id' : lID,\n",
    "                'dimensions' : [{'name' : 'issuetime', 'value' : '0'}, {'name' : 'horizon', 'value' : str(daysAhead + 1)}],\n",
    "                'temporal' : {'intervals' : [{\n",
    "                    'start' : (today + timedelta(days = daysAhead)).strftime(iso8601),\n",
    "                    'end' : (today + timedelta(days = daysAhead)).strftime(iso8601)\n",
    "                }]},\n",
    "                'output' : False\n",
    "            }\n",
    "        for daysAhead in range(0, 16) for lID in ['49173', '49174']],\n",
    "        'spatial' : {'type' : 'poly',  'aoi' : 24},\n",
    "        'temporal' : {'intervals' : [{'snapshot' : today.strftime(iso8601)}]},\n",
    "        #'publish' : False\n",
    "    }\n",
    "    \n",
    "    queryJson['layers'].extend([{\n",
    "        'alias' : 'hdd{0}C'.format(t),\n",
    "        'expression' : '+'.join([\n",
    "            '(($L49173DA{0} + $L49174DA{0}) / 2 < {1} ? 1 : 0)'.format(str(daysAhead).zfill(2), format(t))\n",
    "            for daysAhead in range(0, 16)\n",
    "        ])\n",
    "    } for t in thresholds])\n",
    "    return queryJson"
   ]
  },
  {
   "cell_type": "code",
   "execution_count": 10,
   "metadata": {},
   "outputs": [],
   "source": [
    "queryJson = getQueryJson(utcToday, thresholds = [0, 5, 10, 15])"
   ]
  },
  {
   "cell_type": "code",
   "execution_count": 11,
   "metadata": {},
   "outputs": [],
   "source": [
    "query = paw.PAIRSQuery(queryJson, auth=pairs_credentials, authType='api-key')\n",
    "query.submit()"
   ]
  },
  {
   "cell_type": "code",
   "execution_count": 12,
   "metadata": {},
   "outputs": [],
   "source": [
    "query.poll_till_finished()\n",
    "query.download()\n",
    "query.create_layers()"
   ]
  },
  {
   "cell_type": "markdown",
   "metadata": {},
   "source": [
    "## Step 3: Results\n",
    "\n",
    "The following shows a spatial distribution of heating degree days for the next two weeks depending on different threshold temperatures."
   ]
  },
  {
   "cell_type": "code",
   "execution_count": 13,
   "metadata": {},
   "outputs": [],
   "source": [
    "bBox = query.metadata['Expression-hdd5C[hdd5C]-Exp']['details']['boundingBox']\n",
    "extent = [bBox['minLongitude'], bBox['maxLongitude'], bBox['minLatitude'], bBox['maxLatitude']]"
   ]
  },
  {
   "cell_type": "code",
   "execution_count": 15,
   "metadata": {},
   "outputs": [
    {
     "data": {
      "image/png": "[encoded data removed]",
      "text/plain": [
       "<Figure size 1728x864 with 5 Axes>"
      ]
     },
     "metadata": {
      "needs_background": "light"
     },
     "output_type": "display_data"
    }
   ],
   "source": [
    "fig, axes = plt.subplots(2, 2, sharex=True, sharey=True, figsize = (24, 12))\n",
    "axesImage = axes[0, 0].imshow(query.data['Expression-hdd0C[hdd0C]-Exp'], cmap = 'coolwarm', vmin = 0, vmax = 16, extent = extent)\n",
    "axes[0, 1].imshow(query.data['Expression-hdd5C[hdd5C]-Exp'], cmap = 'coolwarm', vmin = 0, vmax = 16, extent = extent)\n",
    "axes[1, 0].imshow(query.data['Expression-hdd10C[hdd10C]-Exp'], cmap = 'coolwarm', vmin = 0, vmax = 16, extent = extent)\n",
    "axes[1, 1].imshow(query.data['Expression-hdd15C[hdd15C]-Exp'], cmap = 'coolwarm', vmin = 0, vmax = 16, extent = extent)\n",
    "axes[0, 0].set_title('Heating degree days 0C')\n",
    "axes[0, 1].set_title('Heating degree days 5C')\n",
    "axes[1, 0].set_title('Heating degree days 10C')\n",
    "axes[1, 1].set_title('Heating degree days 15C')\n",
    "plt.colorbar(axesImage, ax = axes, label = 'Days')\n",
    "plt.savefig('hdd.png', dpi = 160, bbox_inches = 'tight', transparent = True)\n",
    "plt.show()"
   ]
  },
  {
   "cell_type": "code",
   "execution_count": null,
   "metadata": {},
   "outputs": [],
   "source": []
  }
 ],
 "metadata": {
  "kernelspec": {
   "display_name": "Python 3 (ipykernel)",
   "language": "python",
   "name": "python3"
  },
  "language_info": {
   "codemirror_mode": {
    "name": "ipython",
    "version": 3
   },
   "file_extension": ".py",
   "mimetype": "text/x-python",
   "name": "python",
   "nbconvert_exporter": "python",
   "pygments_lexer": "ipython3",
   "version": "3.8.10"
  }
 },
 "nbformat": 4,
 "nbformat_minor": 4
}
