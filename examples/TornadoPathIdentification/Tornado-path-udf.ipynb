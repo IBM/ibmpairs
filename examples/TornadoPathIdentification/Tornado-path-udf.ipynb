{
 "cells": [
  {
   "cell_type": "markdown",
   "metadata": {},
   "source": [
    "This is a very simple example how the path of a tornando can be identified using PAIRS leveraging its user-defined functions. On 10-20-2019 a major tornando went right through Dallas, TX (https://watchers.news/2019/10/25/ict-2019-dallas-tornadoes-the-costliest-tornado-event-in-texas-history-usa/)"
   ]
  },
  {
   "cell_type": "code",
   "execution_count": null,
   "metadata": {},
   "outputs": [],
   "source": [
    "from ibmpairs import paw\n",
    "import matplotlib.pyplot as plt, pandas as pd, numpy as np, cv2, os\n",
    "\n",
    "PAIRS_SERVER      = 'https://pairs.res.ibm.com'\n",
    "PAIRS_USER        = '<username>'\n",
    "PAIRS_CREDENTIALS = (\n",
    "    PAIRS_USER, paw.get_pairs_api_password(PAIRS_SERVER, PAIRS_USER, passFile= os.path.expanduser('~/ibmpairspass.txt'))\n",
    ")\n",
    "data_id='49360'\n",
    "lat0='32.84'\n",
    "lat1='32.96'\n",
    "lon0='-96.90'\n",
    "lon1='-96.70'\n",
    "\n",
    "query_json = {\n",
    "    \"layers\": [\n",
    "        {   \n",
    "            \"alias\": \"data_after\",\n",
    "            \"id\": data_id,\n",
    "            \"output\": \"false\",\n",
    "            \"temporal\" : {\"intervals\" : [{\"snapshot\" : \"2019-10-22T00:00:00Z\"}]}, \n",
    "            \"type\": \"raster\"\n",
    "        },\n",
    "        {\n",
    "            \"alias\": \"data_before\",\n",
    "            \"id\": data_id,\n",
    "            \"output\": \"false\",\n",
    "            \"temporal\" : {\"intervals\" : [{\"snapshot\" : \"2019-10-07T00:00:00Z\"}]}, \n",
    "            \"type\": \"raster\"\n",
    "        },\n",
    "        {\n",
    "        \"alias\": \"result_01_01\",\n",
    "        \"expression\": \"$data_before-$data_after\"\n",
    "        }\n",
    "    ],\n",
    "    \"name\": \"math_sample\",\n",
    "    \"spatial\" : {\"type\" : \"square\",\"coordinates\" : [lat0,lon0,lat1,lon1]},  \n",
    "    \"temporal\": {\"intervals\": [{\"end\": \"2019-10-22T00:00:00Z\", \"start\": \"2019-10-22T00:00:00Z\"}]}\n",
    "}\n",
    "\n",
    "query = paw.PAIRSQuery(query_json, PAIRS_SERVER, PAIRS_CREDENTIALS)\n",
    "query.submit()\n",
    "query.poll_till_finished()\n",
    "query.download()\n",
    "query.create_layers()"
   ]
  },
  {
   "cell_type": "code",
   "execution_count": null,
   "metadata": {},
   "outputs": [],
   "source": [
    "query_metadata = pd.DataFrame(query.metadata).transpose()\n",
    "\n",
    "id_string='Expression-result_01_01[result_01_01]-Exp'\n",
    "extent = [\n",
    "    query.metadata[id_string]['details']['boundingBox'][k]\n",
    "    for k in ['minLongitude', 'maxLongitude', 'minLatitude', 'maxLatitude']\n",
    "]\n",
    "im_diff=query.data[id_string]"
   ]
  },
  {
   "cell_type": "code",
   "execution_count": null,
   "metadata": {},
   "outputs": [],
   "source": [
    "fig=plt.figure(figsize=(16,8))\n",
    "plt.imshow(im_diff, extent = extent, cmap = 'RdYlGn', vmin=-0.05, vmax=0.05)\n",
    "#fig.savefig('Tornado-path.png')"
   ]
  },
  {
   "cell_type": "code",
   "execution_count": null,
   "metadata": {},
   "outputs": [],
   "source": [
    "# filter the image for better visualization\n",
    "n=10\n",
    "kernel = np.ones((n,n),np.float32)/n/n\n",
    "im_filtered = cv2.filter2D(im_diff,-1,kernel)\n",
    "fig=plt.figure(figsize=(16,8))\n",
    "plt.imshow(im_filtered, extent = extent, cmap = 'RdYlGn', vmin=-0.02, vmax=0.02)\n",
    "fig.savefig('Tornado-path_filtered.png')"
   ]
  }
 ],
 "metadata": {
  "hide_input": false,
  "kernelspec": {
   "display_name": "Python 3",
   "language": "python",
   "name": "python3"
  },
  "language_info": {
   "codemirror_mode": {
    "name": "ipython",
    "version": 3
   },
   "file_extension": ".py",
   "mimetype": "text/x-python",
   "name": "python",
   "nbconvert_exporter": "python",
   "pygments_lexer": "ipython3",
   "version": "3.5.2"
  },
  "latex_envs": {
   "LaTeX_envs_menu_present": true,
   "autocomplete": true,
   "bibliofile": "biblio.bib",
   "cite_by": "apalike",
   "current_citInitial": 1,
   "eqLabelWithNumbers": true,
   "eqNumInitial": 1,
   "hotkeys": {
    "equation": "Ctrl-E",
    "itemize": "Ctrl-I"
   },
   "labels_anchors": false,
   "latex_user_defs": false,
   "report_style_numbering": false,
   "user_envs_cfg": false
  },
  "toc": {
   "colors": {
    "hover_highlight": "#DAA520",
    "navigate_num": "#000000",
    "navigate_text": "#333333",
    "running_highlight": "#FF0000",
    "selected_highlight": "#FFD700",
    "sidebar_border": "#EEEEEE",
    "wrapper_background": "#FFFFFF"
   },
   "moveMenuLeft": true,
   "nav_menu": {
    "height": "12px",
    "width": "252px"
   },
   "navigate_menu": true,
   "number_sections": true,
   "sideBar": true,
   "threshold": 4,
   "toc_cell": false,
   "toc_section_display": "block",
   "toc_window_display": false,
   "widenNotebook": false
  },
  "varInspector": {
   "cols": {
    "lenName": 16,
    "lenType": 16,
    "lenVar": 40
   },
   "kernels_config": {
    "python": {
     "delete_cmd_postfix": "",
     "delete_cmd_prefix": "del ",
     "library": "var_list.py",
     "varRefreshCmd": "print(var_dic_list())"
    },
    "r": {
     "delete_cmd_postfix": ") ",
     "delete_cmd_prefix": "rm(",
     "library": "var_list.r",
     "varRefreshCmd": "cat(var_dic_list()) "
    }
   },
   "types_to_exclude": [
    "module",
    "function",
    "builtin_function_or_method",
    "instance",
    "_Feature"
   ],
   "window_display": false
  }
 },
 "nbformat": 4,
 "nbformat_minor": 4
}
