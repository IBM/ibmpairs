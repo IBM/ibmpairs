{
 "cells": [
  {
   "cell_type": "markdown",
   "metadata": {},
   "source": [
    "# Change detection in water indices\n",
    "\n",
    "PAIRS allows to execute arbitrary math operations on data layers via *user defined functions* (UDFs). In this notebook we will use this feature to calculate moisture and water indices from Sentinel 2 data.\n",
    "\n",
    "The general idea behind these indices is that water reflects less radiation in the infrared range than other land cover. While it is hard to extract moisture content -- or even just the presence of water bodies -- from raw satellite data (whether in the visible part of the optical spectrum or not), these indices allow to obtain such information much more clearly.\n",
    "\n",
    "## Examples of water indices\n",
    "\n",
    "There are a number of different water indices. See the following references for additional information see e.g.\n",
    "- https://en.wikipedia.org/wiki/Normalized_difference_water_index\n",
    "- McFeeters, S.K. The use of the Normalized Difference Water Index (NDWI) in the delineation of open water\n",
    "features. Int. J. Remote Sens. 1996, 17, 1425–1432.\n",
    "- Xu, H. Modification of normalised difference water index (NDWI) to enhance open water features in remotely\n",
    "sensed imagery. Int. J. Remote Sens. 2006.\n",
    "- Feyisa, G.L.; Meilby, H.; Fensholt, R.; Proud, S.R. Automated Water Extraction Index: A new technique for\n",
    "surface water mapping using Landsat imagery. Remote Sens. Environ. 2014, 140, 23–35. \n",
    "\n",
    "In the following we will calcuulate mNDWI, NDMI, AWEInsh and AWEIsh in a single query."
   ]
  },
  {
   "cell_type": "code",
   "execution_count": null,
   "metadata": {},
   "outputs": [],
   "source": [
    "from datetime import datetime, timedelta\n",
    "import os, re, pandas as pd, numpy as np\n",
    "from matplotlib import pyplot as plt\n",
    "from ibmpairs import paw"
   ]
  },
  {
   "cell_type": "markdown",
   "metadata": {},
   "source": [
    "To start, we set some global variables. I.e. the name of your user account et cetera. Note that this assumes the existence of a file `ibmpairspass.txt` in your home directory containing access credentials for IBM PAIRS."
   ]
  },
  {
   "cell_type": "code",
   "execution_count": null,
   "metadata": {},
   "outputs": [],
   "source": [
    "PAIRS_USER              = '<username>'\n",
    "PAIRS_SERVER            = 'https://pairs.res.ibm.com'\n",
    "BASE_URI                = '/'\n",
    "PAIRS_PASSWORD          = paw.get_pairs_api_password(PAIRS_SERVER, PAIRS_USER, passFile=os.path.expanduser('~/ibmpairspass.txt'))\n",
    "PAIRS_CREDENTIALS       = (PAIRS_USER, PAIRS_PASSWORD)"
   ]
  },
  {
   "cell_type": "markdown",
   "metadata": {},
   "source": [
    "The following helps when converting `datetime` objects to strings in ISO 8601-compliant format."
   ]
  },
  {
   "cell_type": "code",
   "execution_count": null,
   "metadata": {},
   "outputs": [],
   "source": [
    "iso8601 = '%Y-%m-%dT%H:%M:%SZ'"
   ]
  },
  {
   "cell_type": "markdown",
   "metadata": {},
   "source": [
    "## Calculating water indices\n",
    "\n",
    "We calculate the water indices from Sentinel 2 data. Note that high resolution satellites such as Sentinel 2 (or Landsat 8) do not cover the whole globe on a daily basis -- as would be the case for e.g. MODIS. Instead, the satellites' revisit frequency is about 5 days. This also means that just because there's data for a certain location on, say October 10 2019, there's also data for a nearby location.\n",
    "\n",
    "When working with a specific site, it's just best to do a point query to verfiy what timestamps are available in the area. Alternatively one can use a user defined function that selects available data for each pixel. See the tutorials at https://pairs.res.ibm.com/tutorial for details.\n",
    "\n",
    "In this notebook, we keep things simple and use specific dates. Namely July 30 and September 13 2019. The location of interest is near Winnipeg, Canada.\n",
    "\n",
    "For readability we define a set of dictionaries that we think of as raw PAIRS layers and derived PAIRS layers. The former are identified by the layers' IDs, the latter are expressions to be used in UDFs. The labels match those used in the `rawLayers` dictionary."
   ]
  },
  {
   "cell_type": "code",
   "execution_count": null,
   "metadata": {},
   "outputs": [],
   "source": [
    "rawLayers = {\n",
    "    'SWIR_1' : '49686',\n",
    "    'SWIR_2' : '49687',\n",
    "    'NIR' : '49361',\n",
    "    'Red' : '49360',\n",
    "    'Green' : '49681',\n",
    "    'Blue' : '49680'\n",
    "}\n",
    "derivedLayers = {\n",
    "    'mNDWI' : '($Green - $SWIR_1) / ($Green + $SWIR_1)',\n",
    "    'NDMI' : '($NIR - $SWIR_1) / ($NIR + $SWIR_1)',\n",
    "    'AWEInsh' : '4 * ($Green - $SWIR_1) - (0.25 * $NIR + 2.75 * $SWIR_2)',\n",
    "    'AWEIsh' : '$Blue + 2.5 * $Green - 1.5 * ($NIR + $SWIR_1) - 0.25 * $SWIR_2'\n",
    "}\n",
    "dates = {\n",
    "    '201907' : datetime(2019, 7, 30).strftime(iso8601),\n",
    "    '201909' : datetime(2019, 9, 13).strftime(iso8601)\n",
    "}"
   ]
  },
  {
   "cell_type": "markdown",
   "metadata": {},
   "source": [
    "We thus define the actual query. Note the use of `\"output\" : False` for the raw layers. This instructs PAIRS not to return (or generate) GeoTiffs for those layers."
   ]
  },
  {
   "cell_type": "code",
   "execution_count": null,
   "metadata": {},
   "outputs": [],
   "source": [
    "queryJson = {\n",
    "    'layers' : [\n",
    "        {\n",
    "            'alias' : '{0}_{1}'.format(lKey, dKey), 'type' : 'raster', 'id' : rawLayers[lKey],\n",
    "            'temporal' : {'intervals' : [{'snapshot' : dates[dKey]}]},\n",
    "            'output' : False\n",
    "        }\n",
    "        for lKey in rawLayers for dKey in dates\n",
    "    ] + [\n",
    "        {\n",
    "            'alias' : '{0}_{1}'.format(lKey, dKey),\n",
    "            'expression' : re.sub(r'(\\$[A-Za-z0-9_]*)', r'\\1_{}'.format(dKey), derivedLayers[lKey])\n",
    "        }\n",
    "        for lKey in derivedLayers for dKey in dates\n",
    "    ],\n",
    "    \"spatial\" : {\"type\" : \"square\",  \"coordinates\" : ['49.71826', '-97.4177619', '49.8936545', '-97.0997129']},\n",
    "    \"temporal\" : {\"intervals\" : [{\n",
    "        \"snapshot\" : datetime(2018, 6, 24).strftime(iso8601),\n",
    "    }]}\n",
    "}"
   ]
  },
  {
   "cell_type": "code",
   "execution_count": null,
   "metadata": {},
   "outputs": [],
   "source": [
    "query = paw.PAIRSQuery(queryJson, PAIRS_SERVER, PAIRS_CREDENTIALS)\n",
    "query.submit()"
   ]
  },
  {
   "cell_type": "markdown",
   "metadata": {},
   "source": [
    "## Analyzing the water and moisture indices"
   ]
  },
  {
   "cell_type": "code",
   "execution_count": null,
   "metadata": {},
   "outputs": [],
   "source": [
    "query.poll_till_finished()\n",
    "query.download()\n",
    "query.create_layers()"
   ]
  },
  {
   "cell_type": "markdown",
   "metadata": {},
   "source": [
    "Since we have defined useful aliases, it makes sense to relabel the `.metadata` structure generated by the `.create_layers()` call. We do so by defining our own `metadata` dictionary."
   ]
  },
  {
   "cell_type": "code",
   "execution_count": null,
   "metadata": {},
   "outputs": [],
   "source": [
    "metadata = dict()\n",
    "for k in query.metadata:\n",
    "    metadata[query.metadata[k]['datalayerAlias']] = query.metadata[k]\n",
    "    metadata[query.metadata[k]['datalayerAlias']]['label'] = k\n",
    "print(metadata.keys())"
   ]
  },
  {
   "cell_type": "markdown",
   "metadata": {},
   "source": [
    "Plotting the water index, it's interesting to see how much easier it is to identify water bodies compared to raw satellite imagery."
   ]
  },
  {
   "cell_type": "code",
   "execution_count": null,
   "metadata": {},
   "outputs": [],
   "source": [
    "plt.figure(figsize = (24, 10))\n",
    "plt.imshow(\n",
    "    query.data[metadata['mNDWI_201907']['label']], cmap = 'seismic_r',\n",
    "    extent = [metadata['mNDWI_201907']['details']['boundingBox'][l] for l in ['minLongitude', 'maxLongitude', 'minLatitude', 'maxLatitude']]\n",
    ")\n",
    "#plt.title('Heating degree days')\n",
    "plt.colorbar(label = '[-1 - 1]')\n",
    "plt.ylabel('Latitude')\n",
    "plt.xlabel('Longitude')\n",
    "plt.title('Modified Normalized Difference Water Index (mNDWI) July 2019')\n",
    "plt.savefig('mNDWI_072019.png', dpi = 60, bbox_inches = 'tight', transparent = True)\n",
    "plt.show()"
   ]
  },
  {
   "cell_type": "markdown",
   "metadata": {},
   "source": [
    "It's instructive to compare the moisture index (NDMI) to the water index. Where the former essentially excludes fields, the latter shows them on equal footing with the rivers."
   ]
  },
  {
   "cell_type": "code",
   "execution_count": null,
   "metadata": {},
   "outputs": [],
   "source": [
    "plt.figure(figsize = (24, 10))\n",
    "plt.imshow(\n",
    "    query.data[metadata['NDMI_201907']['label']], cmap = 'seismic_r',\n",
    "    extent = [metadata['NDMI_201907']['details']['boundingBox'][l] for l in ['minLongitude', 'maxLongitude', 'minLatitude', 'maxLatitude']],\n",
    "    vmin = -1, vmax = 1\n",
    ")\n",
    "#plt.title('Heating degree days')\n",
    "plt.colorbar(label = '[-1 - 1]')\n",
    "plt.ylabel('Latitude')\n",
    "plt.xlabel('Longitude')\n",
    "plt.title('Normalized Difference Moisture Index (NDMI) July 2019')\n",
    "plt.savefig('NDMI_072019.png', dpi = 60, bbox_inches = 'tight', transparent = True)\n",
    "plt.show()"
   ]
  },
  {
   "cell_type": "markdown",
   "metadata": {},
   "source": [
    "A more interesting thing is to compare changes in the moisture index. Let's take a look what happened between July and September."
   ]
  },
  {
   "cell_type": "code",
   "execution_count": null,
   "metadata": {},
   "outputs": [],
   "source": [
    "plt.figure(figsize = (24, 10))\n",
    "plt.imshow(\n",
    "    query.data[metadata['NDMI_201909']['label']], cmap = 'seismic_r',\n",
    "    extent = [metadata['NDMI_201909']['details']['boundingBox'][l] for l in ['minLongitude', 'maxLongitude', 'minLatitude', 'maxLatitude']],\n",
    "    vmin = -1, vmax = 1\n",
    ")\n",
    "#plt.title('Heating degree days')\n",
    "plt.colorbar(label = '[-1 - 1]')\n",
    "plt.ylabel('Latitude')\n",
    "plt.xlabel('Longitude')\n",
    "plt.title('Normalized Difference Moisture Index (NDMI) September 2019')\n",
    "plt.savefig('NDMI_092019.png', dpi = 60, bbox_inches = 'tight', transparent = True)\n",
    "plt.show()"
   ]
  },
  {
   "cell_type": "markdown",
   "metadata": {},
   "source": [
    "Naturally, we can plot the differences directly."
   ]
  },
  {
   "cell_type": "code",
   "execution_count": null,
   "metadata": {},
   "outputs": [],
   "source": [
    "plt.figure(figsize = (24, 10))\n",
    "plt.imshow(\n",
    "    query.data[metadata['NDMI_201909']['label']] - query.data[metadata['NDMI_201907']['label']], cmap = 'seismic_r',\n",
    "    extent = [metadata['NDMI_201909']['details']['boundingBox'][l] for l in ['minLongitude', 'maxLongitude', 'minLatitude', 'maxLatitude']],\n",
    "    vmin = -1, vmax = 1\n",
    ")\n",
    "plt.title('Moisture index September vs. July 2019, Winnipeg')\n",
    "plt.colorbar(label = '[-1 - 1]')\n",
    "plt.ylabel('Latitude')\n",
    "plt.xlabel('Longitude')\n",
    "plt.savefig('NDMI_Difference.png', dpi = 60, bbox_inches = 'tight', transparent = True)\n",
    "plt.show()"
   ]
  },
  {
   "cell_type": "markdown",
   "metadata": {},
   "source": [
    "Given the time of the year, it is reasonable to suspect a simple cause for the drop of moisture: harvest. To look deeper into this, we can calculate changes in the amounts of vegetation. For this, we use the Normalized Difference Vegetation Index (NDVI), a better known cousin of bouth NDMI and mNDWI.\n",
    "\n",
    "## Differences in vegetation index\n",
    "\n",
    "This time around, we calculate the difference in PAIRS instead of querying out the raw dates. It's a straightforward extension of our above example."
   ]
  },
  {
   "cell_type": "code",
   "execution_count": null,
   "metadata": {},
   "outputs": [],
   "source": [
    "queryJson2 = {\n",
    "    'layers' : [\n",
    "        {\n",
    "            'alias' : 'July',\n",
    "            'type' : 'raster', 'id' : '49464', 'aggregation' : 'Max',\n",
    "            'temporal' : {'intervals' : [{\n",
    "                'start' : datetime(2019, 7, 1).strftime(iso8601), 'end' : datetime(2019, 8, 1).strftime(iso8601)\n",
    "            }]},\n",
    "            'output' : False\n",
    "        },\n",
    "        {\n",
    "            'alias' : 'September',\n",
    "            'type' : 'raster', 'id' : '49464', 'aggregation' : 'Max',\n",
    "            'temporal' : {'intervals' : [{\n",
    "                'start' : datetime(2019, 9, 1).strftime(iso8601), 'end' : datetime(2019, 10, 1).strftime(iso8601)\n",
    "            }]},\n",
    "            'output' : False\n",
    "        },\n",
    "        {\n",
    "            'alias' : 'NDVIDifference', 'expression' : '$September - $July'\n",
    "        }\n",
    "    ],\n",
    "    'spatial' : {'type' : 'square', 'coordinates' : ['49.71826', '-97.4177619', '49.8936545', '-97.0997129']},\n",
    "    #'spatial' : {'type' : 'square', 'coordinates' : ['50.0237242', '-96.2168134', '50.1015786', '-96.1086822']},\n",
    "    'temporal' : {'intervals' : [{\n",
    "        'snapshot' : datetime(2019, 10, 1).strftime(iso8601)\n",
    "    }]}\n",
    "}"
   ]
  },
  {
   "cell_type": "code",
   "execution_count": null,
   "metadata": {},
   "outputs": [],
   "source": [
    "query2 = paw.PAIRSQuery(queryJson2, PAIRS_SERVER, PAIRS_CREDENTIALS)\n",
    "query2.submit()"
   ]
  },
  {
   "cell_type": "code",
   "execution_count": null,
   "metadata": {},
   "outputs": [],
   "source": [
    "query2.poll_till_finished()\n",
    "query2.download()\n",
    "query2.create_layers()"
   ]
  },
  {
   "cell_type": "code",
   "execution_count": null,
   "metadata": {},
   "outputs": [],
   "source": [
    "metadata2 = dict()\n",
    "for k in query2.metadata:\n",
    "    metadata2[query2.metadata[k]['datalayerAlias']] = query2.metadata[k]\n",
    "    metadata2[query2.metadata[k]['datalayerAlias']]['label'] = k"
   ]
  },
  {
   "cell_type": "code",
   "execution_count": null,
   "metadata": {},
   "outputs": [],
   "source": [
    "plt.figure(figsize = (24, 10))\n",
    "plt.imshow(\n",
    "    query2.data[metadata2['NDVIDifference']['label']], cmap = 'seismic', vmin = -1, vmax = 1,\n",
    "    extent = [metadata2['NDVIDifference']['details']['boundingBox'][l] for l in ['minLongitude', 'maxLongitude', 'minLatitude', 'maxLatitude']]\n",
    ")\n",
    "plt.colorbar(label = 'Vegetation difference')\n",
    "plt.title('Vegetation September vs. July 2019')\n",
    "plt.ylabel('Latitude')\n",
    "plt.xlabel('Longitude')\n",
    "plt.savefig('vegetationDifferences_2019.png', dpi = 60, bbox_inches = 'tight', transparent = True)\n",
    "plt.show()"
   ]
  },
  {
   "cell_type": "markdown",
   "metadata": {},
   "source": [
    "As expected, we see a clear drop in vegetation in agricultural areas."
   ]
  }
 ],
 "metadata": {
  "hide_input": false,
  "kernelspec": {
   "display_name": "Python 3",
   "language": "python",
   "name": "python3"
  },
  "language_info": {
   "codemirror_mode": {
    "name": "ipython",
    "version": 3
   },
   "file_extension": ".py",
   "mimetype": "text/x-python",
   "name": "python",
   "nbconvert_exporter": "python",
   "pygments_lexer": "ipython3",
   "version": "3.5.2"
  },
  "latex_envs": {
   "LaTeX_envs_menu_present": true,
   "autocomplete": true,
   "bibliofile": "biblio.bib",
   "cite_by": "apalike",
   "current_citInitial": 1,
   "eqLabelWithNumbers": true,
   "eqNumInitial": 1,
   "hotkeys": {
    "equation": "Ctrl-E",
    "itemize": "Ctrl-I"
   },
   "labels_anchors": false,
   "latex_user_defs": false,
   "report_style_numbering": false,
   "user_envs_cfg": false
  },
  "toc": {
   "colors": {
    "hover_highlight": "#DAA520",
    "navigate_num": "#000000",
    "navigate_text": "#333333",
    "running_highlight": "#FF0000",
    "selected_highlight": "#FFD700",
    "sidebar_border": "#EEEEEE",
    "wrapper_background": "#FFFFFF"
   },
   "moveMenuLeft": true,
   "nav_menu": {
    "height": "117.833px",
    "width": "252px"
   },
   "navigate_menu": true,
   "number_sections": true,
   "sideBar": true,
   "threshold": 4,
   "toc_cell": false,
   "toc_section_display": "block",
   "toc_window_display": false,
   "widenNotebook": false
  },
  "varInspector": {
   "cols": {
    "lenName": 16,
    "lenType": 16,
    "lenVar": 40
   },
   "kernels_config": {
    "python": {
     "delete_cmd_postfix": "",
     "delete_cmd_prefix": "del ",
     "library": "var_list.py",
     "varRefreshCmd": "print(var_dic_list())"
    },
    "r": {
     "delete_cmd_postfix": ") ",
     "delete_cmd_prefix": "rm(",
     "library": "var_list.r",
     "varRefreshCmd": "cat(var_dic_list()) "
    }
   },
   "types_to_exclude": [
    "module",
    "function",
    "builtin_function_or_method",
    "instance",
    "_Feature"
   ],
   "window_display": false
  }
 },
 "nbformat": 4,
 "nbformat_minor": 2
}
