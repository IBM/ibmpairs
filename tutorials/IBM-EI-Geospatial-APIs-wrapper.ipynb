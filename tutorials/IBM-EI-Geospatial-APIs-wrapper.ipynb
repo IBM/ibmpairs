{
 "cells": [
  {
   "cell_type": "markdown",
   "id": "95e57bfb",
   "metadata": {},
   "source": [
    "# Imports"
   ]
  },
  {
   "cell_type": "code",
   "execution_count": null,
   "id": "8a82e30d",
   "metadata": {},
   "outputs": [],
   "source": [
    "# Standard Library\n",
    "import os\n",
    "\n",
    "# External\n",
    "# from IPython.display import display\n",
    "from IPython.core.interactiveshell import InteractiveShell\n",
    "InteractiveShell.ast_node_interactivity = \"all\"\n",
    "\n",
    "# ibmpairs\n",
    "import ibmpairs.authentication as authentication\n",
    "import ibmpairs.catalog as catalog\n",
    "import ibmpairs.client as client\n",
    "import ibmpairs.query as query\n",
    "import ibmpairs.dashboard as dashboard"
   ]
  },
  {
   "cell_type": "markdown",
   "id": "9204aeb7",
   "metadata": {},
   "source": [
    "# Authenticate"
   ]
  },
  {
   "cell_type": "markdown",
   "id": "0ed7eb93",
   "metadata": {},
   "source": [
    "## OAuth2"
   ]
  },
  {
   "cell_type": "markdown",
   "id": "57d0957b",
   "metadata": {},
   "source": [
    "#### In order to authenticate to IBM Environmental Intelligence: Geospatial APIs (formerly IBM PAIRS Geoscope) using the ibmpairs library; an API_KEY, TENANT_ID (or alternatively CLIENT_ID) and an ORG_ID are required."
   ]
  },
  {
   "cell_type": "code",
   "execution_count": null,
   "id": "61742b03",
   "metadata": {},
   "outputs": [],
   "source": [
    "EI_API_KEY   = os.environ.get('EI_API_KEY')\n",
    "EI_TENANT_ID = os.environ.get('EI_TENANT_ID')\n",
    "EI_ORG_ID    = os.environ.get('EI_ORG_ID')\n",
    "\n",
    "# credentials   = authentication.OAuth2(api_key   = EI_API_KEY,\n",
    "#                                       tenant_id = EI_TENANT_ID,\n",
    "#                                       org_id    = EI_ORG_ID)\n",
    "\n",
    "# If you have a client id and not a tenant_id:\n",
    "# EI_CLIENT_ID = os.environ.get('EI_CLIENT_ID')\n",
    "# credentials  = authentication.OAuth2(api_key   = EI_API_KEY,\n",
    "#                                      client_id = EI_CLIENT_ID,\n",
    "#                                      org_id    = EI_ORG_ID)"
   ]
  },
  {
   "cell_type": "markdown",
   "id": "1b4e9304",
   "metadata": {},
   "source": [
    "#### If you are a user of the legacy IBM PAIRS Geoscope system and wish to authenticate to pairs.res.ibm.com, please see Legacy -> Authenticate -> OAuth2/Basic below."
   ]
  },
  {
   "cell_type": "markdown",
   "id": "e9ff21c5",
   "metadata": {},
   "source": [
    "# Client"
   ]
  },
  {
   "cell_type": "markdown",
   "id": "42202097",
   "metadata": {},
   "source": [
    "#### A general client is created with the authentication type; the client will become a global default once declared."
   ]
  },
  {
   "cell_type": "code",
   "execution_count": null,
   "id": "4c81dc39",
   "metadata": {},
   "outputs": [],
   "source": [
    "# ei_client = client.Client(authentication = credentials)"
   ]
  },
  {
   "cell_type": "markdown",
   "id": "1ca8edfa",
   "metadata": {},
   "source": [
    "#### There is a help method which wraps the aforementioned Authenticate and Client steps that can be used alternatively."
   ]
  },
  {
   "cell_type": "code",
   "execution_count": null,
   "id": "7761c41e",
   "metadata": {},
   "outputs": [],
   "source": [
    "ei_client = client.get_client(api_key   = EI_API_KEY,\n",
    "                              tenant_id = EI_TENANT_ID,\n",
    "                              org_id    = EI_ORG_ID)"
   ]
  },
  {
   "cell_type": "markdown",
   "id": "8d96caeb",
   "metadata": {},
   "source": [
    "# Query"
   ]
  },
  {
   "cell_type": "markdown",
   "id": "0af3be4f",
   "metadata": {},
   "source": [
    "## Point"
   ]
  },
  {
   "cell_type": "markdown",
   "id": "3733266a",
   "metadata": {},
   "source": [
    "#### An example query to gather information about a spatial point."
   ]
  },
  {
   "cell_type": "code",
   "execution_count": null,
   "id": "ba9f165e",
   "metadata": {},
   "outputs": [],
   "source": [
    "point_dict = {\n",
    "  \"layers\": [\n",
    "    {\n",
    "      \"id\": \"49429\",\n",
    "      \"type\": \"raster\"\n",
    "    }\n",
    "  ],\n",
    "  \"spatial\": {\n",
    "    \"coordinates\": [\n",
    "      \"35.6523\",\n",
    "      \"-87.62\"\n",
    "    ],\n",
    "    \"type\": \"point\"\n",
    "  },\n",
    "  \"temporal\": {\n",
    "    \"intervals\": [\n",
    "      {\n",
    "        \"start\": \"2023-01-01T00:00:00Z\",  \n",
    "        \"end\": \"2023-01-01T23:59:59Z\"\n",
    "      }\n",
    "    ]\n",
    "  }\n",
    "}"
   ]
  },
  {
   "cell_type": "code",
   "execution_count": null,
   "id": "0470ed3e",
   "metadata": {},
   "outputs": [],
   "source": [
    "point_query = query.submit(point_dict)"
   ]
  },
  {
   "cell_type": "code",
   "execution_count": null,
   "id": "e097ba6b",
   "metadata": {},
   "outputs": [],
   "source": [
    "point_df = point_query.point_data_as_dataframe()"
   ]
  },
  {
   "cell_type": "code",
   "execution_count": null,
   "id": "1bd2d823",
   "metadata": {},
   "outputs": [],
   "source": [
    "dfpivot = point_df.pivot(index=['timestamp','latitude','longitude'], columns='layer_id',values=['value'])"
   ]
  },
  {
   "cell_type": "code",
   "execution_count": null,
   "id": "f495676a",
   "metadata": {},
   "outputs": [],
   "source": [
    "dfpivot"
   ]
  },
  {
   "cell_type": "code",
   "execution_count": null,
   "id": "8f21d54b",
   "metadata": {},
   "outputs": [],
   "source": [
    "# Analyse the returned data."
   ]
  },
  {
   "cell_type": "markdown",
   "id": "c433b14c",
   "metadata": {},
   "source": [
    "## Raster"
   ]
  },
  {
   "cell_type": "markdown",
   "id": "098e3df3",
   "metadata": {},
   "source": [
    "#### An example raster query."
   ]
  },
  {
   "cell_type": "code",
   "execution_count": null,
   "id": "679c1b16",
   "metadata": {},
   "outputs": [],
   "source": [
    "raster_dict = {\n",
    "  \"layers\": [\n",
    "    {\n",
    "      \"id\": \"49429\",\n",
    "      \"type\": \"raster\"\n",
    "    }\n",
    "  ],\n",
    "  \"spatial\": {\n",
    "    \"coordinates\": [\n",
    "      \"35.6523\",\n",
    "      \"-87.62\",\n",
    "      \"51.6523\",\n",
    "      \"-71.62\"\n",
    "    ],\n",
    "    \"type\": \"square\"\n",
    "  },\n",
    "  \"temporal\": {\n",
    "    \"intervals\": [\n",
    "      {\n",
    "        \"start\": \"2023-01-01T00:00:00Z\",\n",
    "        \"end\":   \"2023-01-01T00:00:00Z\"\n",
    "      }\n",
    "    ]\n",
    "  }\n",
    "}"
   ]
  },
  {
   "cell_type": "code",
   "execution_count": null,
   "id": "0bd20aed",
   "metadata": {},
   "outputs": [],
   "source": [
    "raster_query = query.submit_check_status_and_download(raster_dict)"
   ]
  },
  {
   "cell_type": "code",
   "execution_count": null,
   "id": "b832bf07",
   "metadata": {},
   "outputs": [],
   "source": [
    "raster_files = raster_query.list_files()\n",
    "print(raster_files)"
   ]
  },
  {
   "cell_type": "code",
   "execution_count": null,
   "id": "675950a7",
   "metadata": {},
   "outputs": [],
   "source": [
    "# Analyse the returned data."
   ]
  },
  {
   "cell_type": "markdown",
   "id": "227ccb61",
   "metadata": {},
   "source": [
    "# Replace Dates"
   ]
  },
  {
   "cell_type": "markdown",
   "id": "970781ac",
   "metadata": {},
   "source": [
    "#### The replace dates method replaces the all of the dates within a query object and sets a new nickname (optional), this is useful if a query object exists and the desire is to re-run with different date ranges."
   ]
  },
  {
   "cell_type": "code",
   "execution_count": null,
   "id": "7a4466e7",
   "metadata": {},
   "outputs": [],
   "source": [
    "from datetime import datetime\n",
    "start = datetime(2023,1,2,0,0,0)\n",
    "end   = datetime(2023,1,2,0,0,0)\n",
    "\n",
    "print()\n",
    "\n",
    "raster_query_new_dates = query.query_from_dict(raster_dict)\n",
    "raster_query_new_dates.replace_dates(start_date = start,\n",
    "                                     end_date   = end)\n",
    "\n",
    "print(\"\")\n",
    "print(raster_query_new_dates)"
   ]
  },
  {
   "cell_type": "markdown",
   "id": "11639f35",
   "metadata": {},
   "source": [
    "## Batch Query (Async)"
   ]
  },
  {
   "cell_type": "markdown",
   "id": "07fb9514",
   "metadata": {},
   "source": [
    "#### Execute a number of queries asynchronously according to a number of async workers."
   ]
  },
  {
   "cell_type": "code",
   "execution_count": null,
   "id": "9655fe12",
   "metadata": {},
   "outputs": [],
   "source": [
    "from datetime import datetime\n",
    "start = datetime(2023,1,2,0,0,0)\n",
    "end   = datetime(2023,1,2,0,0,0)\n",
    "\n",
    "raster_query_batch          = query.query_from_dict(raster_dict)\n",
    "raster_query_batch_next_day = query.query_from_dict(raster_dict)\n",
    "raster_query_batch_next_day.replace_dates(start_date = start,\n",
    "                                          end_date   = end)\n",
    "queries = [raster_query_batch, raster_query_batch_next_day]\n",
    "\n",
    "result = query.batch_query(queries = queries,\n",
    "                           workers = 2,\n",
    "                           verify = False)\n",
    "\n",
    "print(result)"
   ]
  },
  {
   "cell_type": "markdown",
   "id": "4f69e26b",
   "metadata": {},
   "source": [
    "# Catalog"
   ]
  },
  {
   "cell_type": "markdown",
   "id": "e18c4672",
   "metadata": {},
   "source": [
    "## Search"
   ]
  },
  {
   "cell_type": "markdown",
   "id": "613e068d",
   "metadata": {},
   "source": [
    "#### Search IBM Environmental Intelligence: Geospatial APIs catalog (Datasets, Datalayers) for an id or term."
   ]
  },
  {
   "cell_type": "code",
   "execution_count": null,
   "id": "660b63c4",
   "metadata": {},
   "outputs": [],
   "source": [
    "search_by_id = catalog.search(\"49464\")\n",
    "search_by_id"
   ]
  },
  {
   "cell_type": "code",
   "execution_count": null,
   "id": "436efd81",
   "metadata": {},
   "outputs": [],
   "source": [
    "search_by_word = catalog.search(\"Sentinel\")\n",
    "search_by_word"
   ]
  },
  {
   "cell_type": "markdown",
   "id": "a9c917d4",
   "metadata": {},
   "source": [
    "## Get a list of Datasets"
   ]
  },
  {
   "cell_type": "markdown",
   "id": "47827a84",
   "metadata": {},
   "source": [
    "#### Gather all Datasets a user has access to."
   ]
  },
  {
   "cell_type": "code",
   "execution_count": null,
   "id": "67622bf2",
   "metadata": {},
   "outputs": [],
   "source": [
    "ds_list = catalog.get_data_sets()\n",
    "ds_list.display()"
   ]
  },
  {
   "cell_type": "markdown",
   "id": "fe0ed463",
   "metadata": {},
   "source": [
    "## Get a Dataset"
   ]
  },
  {
   "cell_type": "markdown",
   "id": "43d1b4d2",
   "metadata": {},
   "source": [
    "#### Get a Dataset by an ID number "
   ]
  },
  {
   "cell_type": "code",
   "execution_count": null,
   "id": "2f0aa39a",
   "metadata": {},
   "outputs": [],
   "source": [
    "ds = catalog.get_data_set(id = \"177\")\n",
    "ds.display()"
   ]
  },
  {
   "cell_type": "markdown",
   "id": "4405db32",
   "metadata": {},
   "source": [
    "## Get a list of Datalayers"
   ]
  },
  {
   "cell_type": "markdown",
   "id": "bbf657cb",
   "metadata": {},
   "source": [
    "#### Gather all Datalayers a user has access to."
   ]
  },
  {
   "cell_type": "code",
   "execution_count": null,
   "id": "4c2fb4b9",
   "metadata": {},
   "outputs": [],
   "source": [
    "dl_list = catalog.get_data_layers()\n",
    "dl_list.display()"
   ]
  },
  {
   "cell_type": "markdown",
   "id": "91186053",
   "metadata": {},
   "source": [
    "## Get a list of Datalayers per Dataset"
   ]
  },
  {
   "cell_type": "markdown",
   "id": "93288ead",
   "metadata": {},
   "source": [
    "#### Gather all Datalayers in a given Dataset by ID number."
   ]
  },
  {
   "cell_type": "code",
   "execution_count": null,
   "id": "a0d78289",
   "metadata": {},
   "outputs": [],
   "source": [
    "dl_list_by_set = catalog.get_data_layers(data_set_id = \"177\")\n",
    "dl_list_by_set.display()"
   ]
  },
  {
   "cell_type": "markdown",
   "id": "af98dfd1",
   "metadata": {},
   "source": [
    "## Get a Datalayer"
   ]
  },
  {
   "cell_type": "markdown",
   "id": "04774c41",
   "metadata": {},
   "source": [
    "#### Get a Datalayer by an ID number "
   ]
  },
  {
   "cell_type": "code",
   "execution_count": null,
   "id": "44ed186d",
   "metadata": {},
   "outputs": [],
   "source": [
    "dl = catalog.get_data_layer(id = \"49464\")\n",
    "dl.display()"
   ]
  },
  {
   "cell_type": "markdown",
   "id": "78394215",
   "metadata": {},
   "source": [
    "## Get a list of Datalayer Dimensions per Datalayer"
   ]
  },
  {
   "cell_type": "markdown",
   "id": "f7dc4ba0",
   "metadata": {},
   "source": [
    "#### Gather all Datalayer Dimensions in a given Datalayer by ID number."
   ]
  },
  {
   "cell_type": "code",
   "execution_count": null,
   "id": "cb612d9f",
   "metadata": {},
   "outputs": [],
   "source": [
    "dlds = catalog.get_data_layer_dimensions(data_layer_id = \"49166\")\n",
    "dlds.display()"
   ]
  },
  {
   "cell_type": "markdown",
   "id": "da491707",
   "metadata": {},
   "source": [
    "## Get a Datalayer Dimension"
   ]
  },
  {
   "cell_type": "markdown",
   "id": "12fc103f",
   "metadata": {},
   "source": [
    "#### Get a Datalayer Dimension by an ID number "
   ]
  },
  {
   "cell_type": "code",
   "execution_count": null,
   "id": "c6d0c879",
   "metadata": {},
   "outputs": [],
   "source": [
    "dld = catalog.get_data_layer_dimension(id = \"243\")\n",
    "dld.display()"
   ]
  },
  {
   "cell_type": "markdown",
   "id": "7475c413",
   "metadata": {},
   "source": [
    "# Legacy"
   ]
  },
  {
   "cell_type": "markdown",
   "id": "b4c5158a",
   "metadata": {},
   "source": [
    "## Authenticate"
   ]
  },
  {
   "cell_type": "markdown",
   "id": "1f283e7f",
   "metadata": {},
   "source": [
    "### Basic"
   ]
  },
  {
   "cell_type": "code",
   "execution_count": null,
   "id": "675b367e",
   "metadata": {},
   "outputs": [],
   "source": [
    "EI_USERNAME = os.environ.get('EI_USERNAME')\n",
    "EI_PASSWORD = os.environ.get('EI_PASSWORD')\n",
    "\n",
    "credentials  = authentication.Basic(username = EI_USERNAME,\n",
    "                                    password = EI_PASSWORD)"
   ]
  },
  {
   "cell_type": "markdown",
   "id": "ac34d141",
   "metadata": {},
   "source": [
    "### OAuth2"
   ]
  },
  {
   "cell_type": "code",
   "execution_count": null,
   "id": "ab27f7e4",
   "metadata": {},
   "outputs": [],
   "source": [
    "EI_API_KEY = os.environ.get('EI_API_KEY')\n",
    "\n",
    "credentials = authentication.OAuth2(api_key = EI_API_KEY)"
   ]
  },
  {
   "cell_type": "markdown",
   "id": "c25b36bc",
   "metadata": {},
   "source": [
    "## Query"
   ]
  },
  {
   "cell_type": "markdown",
   "id": "94363fce",
   "metadata": {},
   "source": [
    "### Vector"
   ]
  },
  {
   "cell_type": "markdown",
   "id": "a378172c",
   "metadata": {},
   "source": [
    "#### An example vector query."
   ]
  },
  {
   "cell_type": "code",
   "execution_count": null,
   "id": "792e52c0",
   "metadata": {},
   "outputs": [],
   "source": [
    "vector_dict = {\n",
    "  \"layers\": [\n",
    "    {\n",
    "      \"id\": \"P265C4176\",\n",
    "      \"type\": \"vector\"\n",
    "    }\n",
    "  ],\n",
    "  \"outputType\": \"csv\",\n",
    "  \"publish\": False,\n",
    "  \"spatial\": {\n",
    "    \"aoi\": 24,\n",
    "    \"type\": \"poly\"\n",
    "  },\n",
    "  \"temporal\": {\n",
    "    \"intervals\": [\n",
    "      {\n",
    "        \"end\": \"2018-11-14T00:00:00Z\",\n",
    "        \"start\": \"2018-11-13T00:00:00Z\"\n",
    "      }\n",
    "    ]\n",
    "  }\n",
    "}"
   ]
  },
  {
   "cell_type": "code",
   "execution_count": null,
   "id": "24d676eb",
   "metadata": {},
   "outputs": [],
   "source": [
    "vector_query = query.submit_check_status_and_download(vector_dict)"
   ]
  },
  {
   "cell_type": "code",
   "execution_count": null,
   "id": "2aa28292",
   "metadata": {},
   "outputs": [],
   "source": [
    "raster_files = raster_query.list_files()\n",
    "print(raster_files)"
   ]
  },
  {
   "cell_type": "code",
   "execution_count": null,
   "id": "484050fb",
   "metadata": {},
   "outputs": [],
   "source": [
    "# Analyse the returned data."
   ]
  }
 ],
 "metadata": {
  "kernelspec": {
   "display_name": "Python 3 (ipykernel)",
   "language": "python",
   "name": "python3"
  },
  "language_info": {
   "codemirror_mode": {
    "name": "ipython",
    "version": 3
   },
   "file_extension": ".py",
   "mimetype": "text/x-python",
   "name": "python",
   "nbconvert_exporter": "python",
   "pygments_lexer": "ipython3",
   "version": "3.11.0"
  }
 },
 "nbformat": 4,
 "nbformat_minor": 5
}
