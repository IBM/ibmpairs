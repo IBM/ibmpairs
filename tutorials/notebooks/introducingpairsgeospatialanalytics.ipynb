{
 "cells": [
  {
   "cell_type": "markdown",
   "metadata": {},
   "source": [
    "# Introducing Geospatial Analytics \n",
    "\n",
    "Formerly known as IBM PAIRS Geoscope, the [Geopatial Analytics](https://www.ibm.com/products/environmental-intelligence-suite/geospatial-analytics) component within the [IBM Environmental Intelligence Suite](https://www.ibm.com/products/environmental-intelligence-suite) is a platform specifically designed for massive geospatial-temporal (maps, satellite, weather, drone, IoT) query and analytics services. It frees up data scientists and developers from cumbersome processes that dominate conventional data preparation including data governance, providing search-friendly access to a rich, diverse and growing catalog of continually updated geospatial-temporal information.\n",
    "\n",
    "## Gain Valuable Insights with Hundreds of Data Layers\n",
    "\n",
    "Geospatial Analytics offers more than 750 geospatial-temporal data layers to equip your business with a unique set of knowledge that is imperative to maintaining leadership in the era of machine learning and AI. Included is a curated repository of several hundred harmonized, analytics-ready data layers ranging from satellite imagery, weather data, demographic data, land and sea data, agricultural data and more. \n",
    "\n",
    "You can extend the library by efficiently ingesting, curating and aligning your organization’s proprietary data for use in combination with the provided geospatial-temporal data, so you can gain even deeper insights around decisions that matter in a scalable, cost-efficient manner.\n",
    "\n",
    "##  Industry Use Cases\n",
    "\n",
    "There are many ways industries can take advantage of Geospatial Analytics:\n",
    "\n",
    " - A government can derive actionable insights on health, disease and weather, to better advise the public during a natural disaster or pandemic.\n",
    " - An electricity utility can better predict disruption risks to optimize maintenance and crew schedules.\n",
    " - An insurer can better project risk and alert policy holders before issues occur, increasing efficiency.\n",
    " - A lender can improve its credit risk scoring methodology and reduce bad loan placements.\n",
    " - A food company can better respond to consumer demand for greater quality and ensure sustainability initiatives are being met.\n",
    "\n",
    "All industries can optimize querying of multiple data sets and quickly retrieve relevant data even when the underlying data sets possess different spatial and temporal resolutions."
   ]
  },
  {
   "cell_type": "markdown",
   "metadata": {},
   "source": [
    "## Data Ingestion\n",
    "\n",
    "One of the major benefits of Geospatial Analytics is to govern the ingestion of data wherever it is located (FTP, AWS, APIs,..), manage provider licensing and Ts & Cs, and curate professionally the data sets and data layers on behalf of a data scientist or an organisation.\n",
    "\n",
    "Here is an overview of the ingestion process which is key in simplifying the lives of data scientists during the querying and model building.\n",
    "\n",
    "![pairsapproach.jpg](pairsapproach.jpg)"
   ]
  },
  {
   "cell_type": "markdown",
   "metadata": {},
   "source": [
    "## Querying\n",
    "\n",
    "Once the data has been ingested and normalised in Geospatial Analytics, it is much easier to query across different domains for faster data science. \n",
    " \n",
    "One benefit of using the Geospatial Analytics query language is to \"push-down\" data reduction and algorithms to be executed within the Geospatial Analytics big data platform. This is a great advantage to a data scientists as they don't have to fetch TBs of data and process these TBs locally in for example, a python environment. \n",
    "\n",
    "The overall Geospatial Analytics value proposition is as follows:\n",
    "- Access to an ever growing number of layers of analytics\n",
    "- Accurate & consistent results\n",
    "- Reduced time to value! \n",
    "\n",
    "![pairsquerying.jpg](pairsquerying.jpg)"
   ]
  },
  {
   "cell_type": "markdown",
   "metadata": {},
   "source": [
    "## Use Cases for Geospatial Analytics are Plentiful\n",
    "\n",
    "![pairsusecases.jpg](pairsusecases.jpg)\n"
   ]
  },
  {
   "cell_type": "markdown",
   "metadata": {},
   "source": [
    "## How to use the Geospatial Analytics Platform\n",
    "\n",
    "To use Geospatial Analytics, you can either:\n",
    "- use the GUI (see screenshot below) for creating Raster, Vector or Point queries and displaying the results. The GUI can display the results of all queries, but also when you click on a specific lat/long, it can display a corresponding time-series graph in a sub-second response time (as shown below). This allows for speedy assessment of availabilty of data especially in the case of tiled satellite imagery or discovery of long historic trends.\n",
    "- use the APIs for more in-depth data processing and analysis in python leveraging the IBM PAIRS PAW library or by using any other language by HTTP REST APIs calls. The Geospatial Analytics APIs allows the same types of queries as the Geospatial Analytics GUI, while also introducing more flexibility with user-defined functions for more push-down analytics.\n",
    "- use both of the above- using the GUI for exploring the data sets, then using the python APIs for building reproducable analytics in a production process.\n",
    "\n",
    "![pairsgui.jpg](pairsgui.jpg)\n"
   ]
  },
  {
   "cell_type": "code",
   "execution_count": null,
   "metadata": {},
   "outputs": [],
   "source": []
  }
 ],
 "metadata": {
  "kernelspec": {
   "display_name": "Python 3",
   "language": "python",
   "name": "python3"
  },
  "language_info": {
   "codemirror_mode": {
    "name": "ipython",
    "version": 3
   },
   "file_extension": ".py",
   "mimetype": "text/x-python",
   "name": "python",
   "nbconvert_exporter": "python",
   "pygments_lexer": "ipython3",
   "version": "3.7.3"
  }
 },
 "nbformat": 4,
 "nbformat_minor": 2
}
